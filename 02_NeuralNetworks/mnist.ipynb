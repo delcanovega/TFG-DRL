{
 "cells": [
  {
   "cell_type": "code",
   "execution_count": 1,
   "metadata": {},
   "outputs": [
    {
     "name": "stderr",
     "output_type": "stream",
     "text": [
      "Using TensorFlow backend.\n"
     ]
    }
   ],
   "source": [
    "# Load dataset\n",
    "from keras.datasets import mnist\n",
    "\n",
    "(x_train, y_train), (x_test, y_test) = mnist.load_data()"
   ]
  },
  {
   "cell_type": "code",
   "execution_count": 2,
   "metadata": {},
   "outputs": [],
   "source": [
    "# Prepare data\n",
    "## Flatten input to unidimensional array\n",
    "pixel_num = x_train.shape[1] * x_train.shape[2]\n",
    "x_train = x_train.reshape(x_train.shape[0], pixel_num).astype(float)\n",
    "x_test = x_test.reshape(x_test.shape[0], pixel_num).astype(float)"
   ]
  },
  {
   "cell_type": "code",
   "execution_count": 3,
   "metadata": {},
   "outputs": [
    {
     "data": {
      "text/plain": [
       "array([[0, 0, 0, ..., 0, 0, 0],\n",
       "       [0, 0, 0, ..., 0, 0, 0],\n",
       "       [0, 0, 0, ..., 0, 0, 0],\n",
       "       ...,\n",
       "       [0, 0, 0, ..., 0, 0, 0],\n",
       "       [0, 0, 0, ..., 0, 0, 0],\n",
       "       [0, 0, 0, ..., 0, 0, 0]])"
      ]
     },
     "execution_count": 3,
     "metadata": {},
     "output_type": "execute_result"
    }
   ],
   "source": [
    "## Normalize input values from [0, 255] to [0, 1]\n",
    "from sklearn.preprocessing import MinMaxScaler\n",
    "import numpy as np\n",
    "\n",
    "scaler = MinMaxScaler()\n",
    "scaler.fit(x_train)\n",
    "\n",
    "x_train = scaler.transform(x_train)\n",
    "np.rint(x_train).astype(int)\n",
    "#np.ceil(x_train).astype(int)\n",
    "x_test = scaler.transform(x_test)\n",
    "np.rint(x_test).astype(int)\n",
    "#np.ceil(x_test).astype(int)"
   ]
  },
  {
   "cell_type": "code",
   "execution_count": 4,
   "metadata": {},
   "outputs": [],
   "source": [
    "## One hot encoding for the output\n",
    "from keras.utils import to_categorical\n",
    "\n",
    "y_train = to_categorical(y_train)\n",
    "y_test = to_categorical(y_test)"
   ]
  },
  {
   "cell_type": "code",
   "execution_count": 5,
   "metadata": {},
   "outputs": [],
   "source": [
    "# Neural Network's architecture\n",
    "from keras.models import Sequential\n",
    "from keras.layers import Dense\n",
    "from keras.layers import Dropout\n",
    "\n",
    "model = Sequential()\n",
    "model.add(Dropout(0.4, input_shape=(pixel_num,)))\n",
    "model.add(Dense(pixel_num, activation='relu'))\n",
    "model.add(Dense(10, activation='softmax'))\n",
    "model.compile(loss='squared_hinge', optimizer='adam', metrics=['accuracy'])"
   ]
  },
  {
   "cell_type": "code",
   "execution_count": 6,
   "metadata": {},
   "outputs": [
    {
     "name": "stdout",
     "output_type": "stream",
     "text": [
      "Train on 60000 samples, validate on 10000 samples\n",
      "Epoch 1/30\n",
      "60000/60000 [==============================] - 2s 25us/step - loss: 0.9110 - acc: 0.8804 - val_loss: 0.9045 - val_acc: 0.9476\n",
      "Epoch 2/30\n",
      "60000/60000 [==============================] - 1s 15us/step - loss: 0.9055 - acc: 0.9365 - val_loss: 0.9033 - val_acc: 0.9607\n",
      "Epoch 3/30\n",
      "60000/60000 [==============================] - 1s 15us/step - loss: 0.9042 - acc: 0.9516 - val_loss: 0.9025 - val_acc: 0.9707\n",
      "Epoch 4/30\n",
      "60000/60000 [==============================] - 1s 15us/step - loss: 0.9035 - acc: 0.9587 - val_loss: 0.9024 - val_acc: 0.9736\n",
      "Epoch 5/30\n",
      "60000/60000 [==============================] - 1s 15us/step - loss: 0.9031 - acc: 0.9633 - val_loss: 0.9020 - val_acc: 0.9768\n",
      "Epoch 6/30\n",
      "60000/60000 [==============================] - 1s 15us/step - loss: 0.9027 - acc: 0.9682 - val_loss: 0.9019 - val_acc: 0.9774\n",
      "Epoch 7/30\n",
      "60000/60000 [==============================] - 1s 15us/step - loss: 0.9025 - acc: 0.9711 - val_loss: 0.9018 - val_acc: 0.9786\n",
      "Epoch 8/30\n",
      "60000/60000 [==============================] - 1s 15us/step - loss: 0.9023 - acc: 0.9727 - val_loss: 0.9018 - val_acc: 0.9782\n",
      "Epoch 9/30\n",
      "60000/60000 [==============================] - 1s 15us/step - loss: 0.9021 - acc: 0.9751 - val_loss: 0.9018 - val_acc: 0.9777\n",
      "Epoch 10/30\n",
      "60000/60000 [==============================] - 1s 15us/step - loss: 0.9021 - acc: 0.9750 - val_loss: 0.9015 - val_acc: 0.9822\n",
      "Epoch 11/30\n",
      "60000/60000 [==============================] - 1s 15us/step - loss: 0.9020 - acc: 0.9769 - val_loss: 0.9015 - val_acc: 0.9822\n",
      "Epoch 12/30\n",
      "60000/60000 [==============================] - 1s 15us/step - loss: 0.9018 - acc: 0.9784 - val_loss: 0.9015 - val_acc: 0.9818\n",
      "Epoch 13/30\n",
      "60000/60000 [==============================] - 1s 15us/step - loss: 0.9018 - acc: 0.9794 - val_loss: 0.9014 - val_acc: 0.9830\n",
      "Epoch 14/30\n",
      "60000/60000 [==============================] - 1s 15us/step - loss: 0.9017 - acc: 0.9796 - val_loss: 0.9015 - val_acc: 0.9823\n",
      "Epoch 15/30\n",
      "60000/60000 [==============================] - 1s 15us/step - loss: 0.9016 - acc: 0.9810 - val_loss: 0.9015 - val_acc: 0.9828\n",
      "Epoch 16/30\n",
      "60000/60000 [==============================] - 1s 15us/step - loss: 0.9015 - acc: 0.9819 - val_loss: 0.9013 - val_acc: 0.9842\n",
      "Epoch 17/30\n",
      "60000/60000 [==============================] - 1s 15us/step - loss: 0.9015 - acc: 0.9819 - val_loss: 0.9015 - val_acc: 0.9816\n",
      "Epoch 18/30\n",
      "60000/60000 [==============================] - 1s 15us/step - loss: 0.9014 - acc: 0.9829 - val_loss: 0.9013 - val_acc: 0.9840\n",
      "Epoch 19/30\n",
      "60000/60000 [==============================] - 1s 15us/step - loss: 0.9014 - acc: 0.9832 - val_loss: 0.9013 - val_acc: 0.9837\n",
      "Epoch 20/30\n",
      "60000/60000 [==============================] - 1s 15us/step - loss: 0.9013 - acc: 0.9837 - val_loss: 0.9013 - val_acc: 0.9847\n",
      "Epoch 21/30\n",
      "60000/60000 [==============================] - 1s 15us/step - loss: 0.9013 - acc: 0.9841 - val_loss: 0.9013 - val_acc: 0.9846\n",
      "Epoch 22/30\n",
      "60000/60000 [==============================] - 1s 15us/step - loss: 0.9013 - acc: 0.9844 - val_loss: 0.9013 - val_acc: 0.9834\n",
      "Epoch 23/30\n",
      "60000/60000 [==============================] - 1s 15us/step - loss: 0.9013 - acc: 0.9846 - val_loss: 0.9012 - val_acc: 0.9859\n",
      "Epoch 24/30\n",
      "60000/60000 [==============================] - 1s 15us/step - loss: 0.9012 - acc: 0.9854 - val_loss: 0.9014 - val_acc: 0.9830\n",
      "Epoch 25/30\n",
      "60000/60000 [==============================] - 1s 15us/step - loss: 0.9013 - acc: 0.9848 - val_loss: 0.9013 - val_acc: 0.9844\n",
      "Epoch 26/30\n",
      "60000/60000 [==============================] - 1s 15us/step - loss: 0.9012 - acc: 0.9862 - val_loss: 0.9013 - val_acc: 0.9843\n",
      "Epoch 27/30\n",
      "60000/60000 [==============================] - 1s 15us/step - loss: 0.9012 - acc: 0.9856 - val_loss: 0.9012 - val_acc: 0.9854\n",
      "Epoch 28/30\n",
      "60000/60000 [==============================] - 1s 15us/step - loss: 0.9011 - acc: 0.9869 - val_loss: 0.9012 - val_acc: 0.9851\n",
      "Epoch 29/30\n",
      "60000/60000 [==============================] - 1s 15us/step - loss: 0.9011 - acc: 0.9871 - val_loss: 0.9013 - val_acc: 0.9844\n",
      "Epoch 30/30\n",
      "60000/60000 [==============================] - 1s 15us/step - loss: 0.9011 - acc: 0.9868 - val_loss: 0.9013 - val_acc: 0.9841\n",
      "Baseline Error: 1.59%\n"
     ]
    }
   ],
   "source": [
    "# Training and evaluation\n",
    "model.fit(x=x_train, y=y_train, validation_data=(x_test, y_test), epochs=30, batch_size=128, verbose=1)\n",
    "\n",
    "scores = model.evaluate(x_test, y_test, verbose=0)\n",
    "print(\"Baseline Error: %.2f%%\" % (100-scores[1]*100))"
   ]
  },
  {
   "cell_type": "code",
   "execution_count": null,
   "metadata": {},
   "outputs": [],
   "source": []
  }
 ],
 "metadata": {
  "kernelspec": {
   "display_name": "Python 3",
   "language": "python",
   "name": "python3"
  },
  "language_info": {
   "codemirror_mode": {
    "name": "ipython",
    "version": 3
   },
   "file_extension": ".py",
   "mimetype": "text/x-python",
   "name": "python",
   "nbconvert_exporter": "python",
   "pygments_lexer": "ipython3",
   "version": "3.6.6"
  }
 },
 "nbformat": 4,
 "nbformat_minor": 2
}
